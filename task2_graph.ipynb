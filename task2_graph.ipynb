{
 "cells": [
  {
   "cell_type": "code",
   "execution_count": 2,
   "metadata": {},
   "outputs": [],
   "source": [
    "import matplotlib.pyplot as plt\n",
    "import subprocess\n",
    "import os\n",
    "import random\n",
    "import math\n",
    "import numpy as np"
   ]
  },
  {
   "cell_type": "code",
   "execution_count": 3,
   "metadata": {},
   "outputs": [],
   "source": [
    "script_dir = os.path.dirname('__task2_graph__')\n",
    "rel_path = \"output.txt\"\n",
    "file = os.path.join(script_dir, rel_path)"
   ]
  },
  {
   "cell_type": "code",
   "execution_count": 4,
   "metadata": {},
   "outputs": [
    {
     "name": "stdout",
     "output_type": "stream",
     "text": [
      "The cost of the optimal solution is: 1.12025\n",
      "Line Segment y= 0.099214 x + 1.281168  from points  0.32  to  2.36  with Square Error 0.218756\n",
      "Line Segment y= 0.929985 x + -0.956802  from points  2.62  to  4.48  with Square Error 0.232437\n",
      "Line Segment y= -0.223593 x + 3.897506  from points  4.55  to  6.33  with Square Error 0.069057\n"
     ]
    },
    {
     "data": {
      "image/png": "[encoded data removed]",
      "text/plain": [
       "<Figure size 432x288 with 1 Axes>"
      ]
     },
     "metadata": {
      "needs_background": "light"
     },
     "output_type": "display_data"
    }
   ],
   "source": [
    "import matplotlib.pyplot as plt\n",
    "\n",
    "# Open the text file and read the data\n",
    "with open('output.txt', 'r') as f:\n",
    "    # Read the number of points\n",
    "    num_points = int(f.readline().strip())\n",
    "\n",
    "    # Read the points\n",
    "    points = []\n",
    "    for i in range(num_points):\n",
    "        point = tuple(map(float, f.readline().strip().split()))\n",
    "        points.append(point)\n",
    "\n",
    "    # Read the solution\n",
    "    solution = float(f.readline().strip())\n",
    "\n",
    "    # Read the lines\n",
    "    lines = []\n",
    "    for line in f:\n",
    "        slope, intercept, x_min, x_max,error = map(float, line.strip().split())\n",
    "        lines.append((slope, intercept, x_min, x_max,error))\n",
    "\n",
    "# Create the plot\n",
    "fig, ax = plt.subplots()\n",
    "\n",
    "# Plot the points\n",
    "x_coords = [point[0] for point in points]\n",
    "y_coords = [point[1] for point in points]\n",
    "ax.scatter(x_coords, y_coords)\n",
    "\n",
    "# Plot the solution\n",
    "print(\"The cost of the optimal solution is:\",solution)\n",
    "\n",
    "# Plot the lines\n",
    "for slope, intercept, x_min, x_max,error in lines:\n",
    "    print(\"Line Segment y=\",slope,\"x +\",intercept,\" from points \",x_min,\" to \",x_max,\" with Square Error\",error)\n",
    "    x = np.linspace(x_min, x_max, 100)\n",
    "    y = slope* x + intercept\n",
    "    ax.plot(x, y, label='y = {}x + {}'.format(slope, intercept))\n",
    "\n",
    "# Set the axis labels and title\n",
    "ax.set_xlabel('X')\n",
    "ax.set_ylabel('Y')\n",
    "ax.set_title('Visualization')\n",
    "\n",
    "# Show the plot\n",
    "plt.show()"
   ]
  }
 ],
 "metadata": {
  "kernelspec": {
   "display_name": "base",
   "language": "python",
   "name": "python3"
  },
  "language_info": {
   "codemirror_mode": {
    "name": "ipython",
    "version": 3
   },
   "file_extension": ".py",
   "mimetype": "text/x-python",
   "name": "python",
   "nbconvert_exporter": "python",
   "pygments_lexer": "ipython3",
   "version": "3.9.12"
  },
  "orig_nbformat": 4
 },
 "nbformat": 4,
 "nbformat_minor": 2
}
